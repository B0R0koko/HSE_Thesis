{
 "cells": [
  {
   "cell_type": "code",
   "execution_count": 58,
   "id": "30ec5c23",
   "metadata": {},
   "outputs": [],
   "source": [
    "import requests\n",
    "import pandas as pd\n",
    "import numpy as np\n",
    "import re\n",
    "\n",
    "from selectolax.parser import HTMLParser\n",
    "from tqdm import tqdm"
   ]
  },
  {
   "cell_type": "code",
   "execution_count": 15,
   "id": "be56700c",
   "metadata": {},
   "outputs": [],
   "source": [
    "resp = requests.get(\n",
    "    \"https://www.marketscreener.com/quote/stock/CHINA-RAILWAY-GROUP-LIMIT-6500027/financials/\"\n",
    ")"
   ]
  },
  {
   "cell_type": "code",
   "execution_count": 16,
   "id": "0102e989",
   "metadata": {},
   "outputs": [],
   "source": [
    "dom = HTMLParser(resp.text)"
   ]
  },
  {
   "cell_type": "code",
   "execution_count": 80,
   "id": "de7aedd8",
   "metadata": {},
   "outputs": [],
   "source": [
    "table = dom.css_first(\"div#Tableau_Histo_ECR_a > table > tbody\")"
   ]
  },
  {
   "cell_type": "code",
   "execution_count": 81,
   "id": "eda8f126",
   "metadata": {},
   "outputs": [],
   "source": [
    "def clear_value(el):\n",
    "    if el == \"-\":\n",
    "        return np.nan\n",
    "    \n",
    "    return re.sub(\",\", \".\", re.sub(\"[^\\d\\,\\./]\", \"\", el))"
   ]
  },
  {
   "cell_type": "code",
   "execution_count": null,
   "id": "bdffe2d3",
   "metadata": {},
   "outputs": [],
   "source": [
    "def transform"
   ]
  },
  {
   "cell_type": "code",
   "execution_count": 91,
   "id": "e9c24184",
   "metadata": {},
   "outputs": [
    {
     "data": {
      "text/plain": [
       "{'1': 'CNY in Million', '2': 'CNY'}"
      ]
     },
     "execution_count": 91,
     "metadata": {},
     "output_type": "execute_result"
    }
   ],
   "source": [
    "{\n",
    "    el.css_first(\"sup\").text(): el.text()[2:] for el in rows[-2].css_first(\"td\").css(\"div\")\n",
    "}"
   ]
  },
  {
   "cell_type": "code",
   "execution_count": 90,
   "id": "a85263ca",
   "metadata": {},
   "outputs": [
    {
     "data": {
      "text/plain": [
       "{'Net sales_2018': '740383',\n",
       " 'Net sales_2019': '848440',\n",
       " 'Net sales_2020': '971405',\n",
       " 'Net sales_2021': '1070417',\n",
       " 'Net sales_2022': '1151501',\n",
       " 'Net sales_2023': '1288012',\n",
       " 'Net sales_2024': '1413030',\n",
       " 'Net sales_2025': '1502822',\n",
       " 'EBITDA_2018': '38588',\n",
       " 'EBITDA_2019': '41709',\n",
       " 'EBITDA_2020': '42926',\n",
       " 'EBITDA_2021': '48559',\n",
       " 'EBITDA_2022': '53324',\n",
       " 'EBITDA_2023': '60303',\n",
       " 'EBITDA_2024': '68657',\n",
       " 'EBITDA_2025': '69803',\n",
       " 'Operating profit (EBIT)_2018': '28713',\n",
       " 'Operating profit (EBIT)_2019': '31882',\n",
       " 'Operating profit (EBIT)_2020': '33578',\n",
       " 'Operating profit (EBIT)_2021': '38782',\n",
       " 'Operating profit (EBIT)_2022': '43049',\n",
       " 'Operating profit (EBIT)_2023': '49554',\n",
       " 'Operating profit (EBIT)_2024': '56368',\n",
       " 'Operating profit (EBIT)_2025': '58379',\n",
       " 'Operating Margin_2018': '3.88',\n",
       " 'Operating Margin_2019': '3.76',\n",
       " 'Operating Margin_2020': '3.46',\n",
       " 'Operating Margin_2021': '3.62',\n",
       " 'Operating Margin_2022': '3.74',\n",
       " 'Operating Margin_2023': '3.85',\n",
       " 'Operating Margin_2024': '3.99',\n",
       " 'Operating Margin_2025': '3.88',\n",
       " 'Pre-Tax Profit (EBT)_2018': '24945',\n",
       " 'Pre-Tax Profit (EBT)_2019': '31332',\n",
       " 'Pre-Tax Profit (EBT)_2020': '33383',\n",
       " 'Pre-Tax Profit (EBT)_2021': '37586',\n",
       " 'Pre-Tax Profit (EBT)_2022': '42583',\n",
       " 'Pre-Tax Profit (EBT)_2023': '48098',\n",
       " 'Pre-Tax Profit (EBT)_2024': '53559',\n",
       " 'Pre-Tax Profit (EBT)_2025': '57804',\n",
       " 'Net income_2018': '17198',\n",
       " 'Net income_2019': '23678',\n",
       " 'Net income_2020': '25188',\n",
       " 'Net income_2021': '27618',\n",
       " 'Net income_2022': '31276',\n",
       " 'Net income_2023': '34574',\n",
       " 'Net income_2024': '37610',\n",
       " 'Net income_2025': '41091',\n",
       " 'Net margin_2018': '2.32',\n",
       " 'Net margin_2019': '2.79',\n",
       " 'Net margin_2020': '2.59',\n",
       " 'Net margin_2021': '2.58',\n",
       " 'Net margin_2022': '2.72',\n",
       " 'Net margin_2023': '2.68',\n",
       " 'Net margin_2024': '2.66',\n",
       " 'Net margin_2025': '2.73',\n",
       " 'EPS_2018': '0.72',\n",
       " 'EPS_2019': '0.95',\n",
       " 'EPS_2020': '0.96',\n",
       " 'EPS_2021': '1.04',\n",
       " 'EPS_2022': '1.20',\n",
       " 'EPS_2023': '1.43',\n",
       " 'EPS_2024': '1.59',\n",
       " 'EPS_2025': '1.80',\n",
       " 'Free Cash Flow_2018': '6831',\n",
       " 'Free Cash Flow_2019': '17981',\n",
       " 'Free Cash Flow_2020': '10627',\n",
       " 'Free Cash Flow_2021': '40643',\n",
       " 'Free Cash Flow_2022': '16192',\n",
       " 'Free Cash Flow_2023': '5032',\n",
       " 'Free Cash Flow_2024': '21939',\n",
       " 'Free Cash Flow_2025': '42561',\n",
       " 'FCF margin_2018': '0.92',\n",
       " 'FCF margin_2019': '2.12',\n",
       " 'FCF margin_2020': '1.09',\n",
       " 'FCF margin_2021': '3.80',\n",
       " 'FCF margin_2022': '1.41',\n",
       " 'FCF margin_2023': '0.39',\n",
       " 'FCF margin_2024': '1.55',\n",
       " 'FCF margin_2025': '2.83',\n",
       " 'FCF Conversion_2018': '17.7',\n",
       " 'FCF Conversion_2019': '43.1',\n",
       " 'FCF Conversion_2020': '24.8',\n",
       " 'FCF Conversion_2021': '83.7',\n",
       " 'FCF Conversion_2022': '30.4',\n",
       " 'FCF Conversion_2023': '8.34',\n",
       " 'FCF Conversion_2024': '32.0',\n",
       " 'FCF Conversion_2025': '61.0',\n",
       " 'Dividend per Share_2018': '0.13',\n",
       " 'Dividend per Share_2019': '0.17',\n",
       " 'Dividend per Share_2020': '0.18',\n",
       " 'Dividend per Share_2021': '0.20',\n",
       " 'Dividend per Share_2022': '0.20',\n",
       " 'Dividend per Share_2023': '0.24',\n",
       " 'Dividend per Share_2024': '0.28',\n",
       " 'Dividend per Share_2025': '0.31',\n",
       " 'Announcement Date_2018': '03/29/2019',\n",
       " 'Announcement Date_2019': '03/30/2020',\n",
       " 'Announcement Date_2020': '03/30/2021',\n",
       " 'Announcement Date_2021': '03/30/2022',\n",
       " 'Announcement Date_2022': '03/30/2023',\n",
       " 'Announcement Date_2023': nan,\n",
       " 'Announcement Date_2024': nan,\n",
       " 'Announcement Date_2025': nan}"
      ]
     },
     "execution_count": 90,
     "metadata": {},
     "output_type": "execute_result"
    }
   ],
   "source": [
    "rows = table.css(\"tr\")\n",
    "\n",
    "years = [el.text() for el in rows[0].css(\"td\")[1:]]\n",
    "data = {}\n",
    "\n",
    "for row in rows[1:-2]:\n",
    "    cols = row.css(\"td\")\n",
    "    \n",
    "    row_name = cols[0].text()\n",
    "    \n",
    "    if (sup:=cols[0].css_first(\"sup\")):\n",
    "        row_name = cols[0].text()[:-1]\n",
    "    \n",
    "    values = [\n",
    "        clear_value(col.text()) for col in cols[1:]\n",
    "    ]\n",
    "    \n",
    "    for year, value in zip(years, values):\n",
    "        data[f\"{row_name}_{year}\"] = value\n",
    "    \n",
    "data"
   ]
  },
  {
   "cell_type": "code",
   "execution_count": 116,
   "id": "73c6b015",
   "metadata": {},
   "outputs": [],
   "source": [
    "from selenium import webdriver\n",
    "from selenium.webdriver.common.by import By\n",
    "from selenium.webdriver.support.wait import WebDriverWait\n",
    "from selenium.webdriver.support import expected_conditions as EC\n",
    "from selenium.common.exceptions import StaleElementReferenceException"
   ]
  },
  {
   "cell_type": "code",
   "execution_count": 94,
   "id": "d94617a6",
   "metadata": {},
   "outputs": [
    {
     "data": {
      "text/plain": [
       "'/Users/borokoko/HSE/Thesis/collection'"
      ]
     },
     "execution_count": 94,
     "metadata": {},
     "output_type": "execute_result"
    }
   ],
   "source": [
    "element = WebDriverWait(driver, 10).until(\n",
    "        EC.presence_of_element_located((By.ID, \"myDynamicElement\"))\n",
    "    )"
   ]
  },
  {
   "cell_type": "code",
   "execution_count": 99,
   "id": "d7482c67",
   "metadata": {},
   "outputs": [],
   "source": [
    "df = pd.read_csv(\"data.csv\")\n",
    "companies = df.company_name.tolist()"
   ]
  },
  {
   "cell_type": "code",
   "execution_count": 118,
   "id": "c576d05d",
   "metadata": {},
   "outputs": [],
   "source": [
    "class LinkCollector:\n",
    "    \n",
    "    def __init__(self):\n",
    "        self.driver = webdriver.Chrome()\n",
    "        self.driver.get(\n",
    "            \"https://www.marketscreener.com/\"\n",
    "        )\n",
    "        \n",
    "    def collect_links(self, companies):\n",
    "        \n",
    "        search_bar = WebDriverWait(self.driver, 10).until(\n",
    "            EC.presence_of_element_located(\n",
    "                (By.CSS_SELECTOR, \"input[data-submit-form='recherche_menu']\")\n",
    "            )\n",
    "        )\n",
    "        \n",
    "        search_res = []\n",
    "        \n",
    "        for company in tqdm(companies):\n",
    "            search_bar.send_keys(company)\n",
    "            \n",
    "            self.driver.implicitly_wait(0.3)\n",
    "            \n",
    "            first_match = WebDriverWait(self.driver, 10).until(\n",
    "                EC.presence_of_element_located(\n",
    "                    (By.CSS_SELECTOR, \"table.table--hover tr.table-child--pointer > td > a\")\n",
    "                )\n",
    "            )\n",
    "\n",
    "            search_res.append({\n",
    "                \"company_name\": company,\n",
    "                \"matched_to\": first_match.text,\n",
    "                \"url\": first_match.get_attribute(\"href\")\n",
    "            })\n",
    "            \n",
    "            search_bar.clear()\n",
    "        \n",
    "        return search_res"
   ]
  },
  {
   "cell_type": "code",
   "execution_count": 112,
   "id": "9e4c50c8",
   "metadata": {},
   "outputs": [],
   "source": [
    "collector = LinkCollector()"
   ]
  },
  {
   "cell_type": "code",
   "execution_count": 3,
   "id": "14addb71",
   "metadata": {},
   "outputs": [],
   "source": [
    "# result = collector.collect_links(companies)"
   ]
  },
  {
   "cell_type": "code",
   "execution_count": 24,
   "id": "a206b58c",
   "metadata": {},
   "outputs": [],
   "source": [
    "resp = requests.get(\n",
    "    \"https://www.marketscreener.com/quote/stock/CHINA-RAILWAY-GROUP-LIMIT-6500027/financials/\"\n",
    ")\n",
    "\n",
    "dom = HTMLParser(resp.text)"
   ]
  },
  {
   "cell_type": "code",
   "execution_count": 41,
   "id": "ee3c8a44",
   "metadata": {},
   "outputs": [],
   "source": [
    "table_val = dom.css_first(\"div#Tableau_Histo_ECR_a tbody\")\n",
    "\n",
    "years = [\n",
    "    el.text().strip() for el in table_val.css_first(\"tr:nth-child(1)\").css(\"td\")[1:]\n",
    "]"
   ]
  },
  {
   "cell_type": "code",
   "execution_count": 61,
   "id": "4e93f84e",
   "metadata": {},
   "outputs": [
    {
     "data": {
      "text/html": [
       "<div>\n",
       "<style scoped>\n",
       "    .dataframe tbody tr th:only-of-type {\n",
       "        vertical-align: middle;\n",
       "    }\n",
       "\n",
       "    .dataframe tbody tr th {\n",
       "        vertical-align: top;\n",
       "    }\n",
       "\n",
       "    .dataframe thead th {\n",
       "        text-align: right;\n",
       "    }\n",
       "</style>\n",
       "<table border=\"1\" class=\"dataframe\">\n",
       "  <thead>\n",
       "    <tr style=\"text-align: right;\">\n",
       "      <th></th>\n",
       "      <th>index_name</th>\n",
       "      <th>adjustment</th>\n",
       "      <th>value</th>\n",
       "    </tr>\n",
       "  </thead>\n",
       "  <tbody>\n",
       "    <tr>\n",
       "      <th>0</th>\n",
       "      <td>Net sales_2018</td>\n",
       "      <td>1</td>\n",
       "      <td>740 383</td>\n",
       "    </tr>\n",
       "    <tr>\n",
       "      <th>1</th>\n",
       "      <td>Net sales_2019</td>\n",
       "      <td>1</td>\n",
       "      <td>848 440</td>\n",
       "    </tr>\n",
       "    <tr>\n",
       "      <th>2</th>\n",
       "      <td>Net sales_2020</td>\n",
       "      <td>1</td>\n",
       "      <td>971 405</td>\n",
       "    </tr>\n",
       "    <tr>\n",
       "      <th>3</th>\n",
       "      <td>Net sales_2021</td>\n",
       "      <td>1</td>\n",
       "      <td>1 070 417</td>\n",
       "    </tr>\n",
       "    <tr>\n",
       "      <th>4</th>\n",
       "      <td>Net sales_2022</td>\n",
       "      <td>1</td>\n",
       "      <td>1 151 501</td>\n",
       "    </tr>\n",
       "  </tbody>\n",
       "</table>\n",
       "</div>"
      ],
      "text/plain": [
       "       index_name adjustment      value\n",
       "0  Net sales_2018          1    740 383\n",
       "1  Net sales_2019          1    848 440\n",
       "2  Net sales_2020          1    971 405\n",
       "3  Net sales_2021          1  1 070 417\n",
       "4  Net sales_2022          1  1 151 501"
      ]
     },
     "execution_count": 61,
     "metadata": {},
     "output_type": "execute_result"
    }
   ],
   "source": [
    "data = []\n",
    "\n",
    "for row in table_val.css(\"tr\")[1:-3]:\n",
    "    td_index = row.css_first(\"td:nth-child(1)\")\n",
    "    adjustment = td_index.css_first(\"sup\")\n",
    "    index_name = td_index.text().strip() if not adjustment else td_index.text().strip()[:-1]\n",
    "    values = [el.text().strip() for el in row.css(\"td\")[1:]]\n",
    "    for value, year in zip(values, years):\n",
    "        data.append({\n",
    "            \"index_name\": f\"{index_name}_{year}\",\n",
    "            \"adjustment\": adjustment.text() if adjustment else None,\n",
    "            \"value\": value\n",
    "        })\n",
    "\n",
    "df = pd.DataFrame.from_dict(data)\n",
    "df.head()"
   ]
  },
  {
   "cell_type": "code",
   "execution_count": 57,
   "id": "ec77375b",
   "metadata": {},
   "outputs": [],
   "source": [
    "mapping = {\n",
    "    el.css_first(\"sup\").text(): el.text().strip()[2:]\n",
    "    for el in table_val.css_first(\"tr:last-child > td\").css(\"div\")\n",
    "}"
   ]
  },
  {
   "cell_type": "code",
   "execution_count": null,
   "id": "56199bb4",
   "metadata": {},
   "outputs": [],
   "source": []
  },
  {
   "cell_type": "code",
   "execution_count": 62,
   "id": "9623cca7",
   "metadata": {},
   "outputs": [
    {
     "data": {
      "text/plain": [
       "0     CNY in Million\n",
       "1     CNY in Million\n",
       "2     CNY in Million\n",
       "3     CNY in Million\n",
       "4     CNY in Million\n",
       "           ...      \n",
       "91               CNY\n",
       "92               CNY\n",
       "93               CNY\n",
       "94               CNY\n",
       "95               CNY\n",
       "Name: adjustment, Length: 96, dtype: object"
      ]
     },
     "execution_count": 62,
     "metadata": {},
     "output_type": "execute_result"
    }
   ],
   "source": [
    "df.adjustment.map(mapping)"
   ]
  }
 ],
 "metadata": {
  "kernelspec": {
   "display_name": "Python 3 (ipykernel)",
   "language": "python",
   "name": "python3"
  },
  "language_info": {
   "codemirror_mode": {
    "name": "ipython",
    "version": 3
   },
   "file_extension": ".py",
   "mimetype": "text/x-python",
   "name": "python",
   "nbconvert_exporter": "python",
   "pygments_lexer": "ipython3",
   "version": "3.11.0"
  }
 },
 "nbformat": 4,
 "nbformat_minor": 5
}
