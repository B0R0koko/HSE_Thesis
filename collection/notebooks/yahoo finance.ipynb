{
 "cells": [
  {
   "cell_type": "code",
   "execution_count": 13,
   "id": "b68e1c39",
   "metadata": {},
   "outputs": [],
   "source": [
    "import yfinance as yf\n",
    "import pandas as pd\n",
    "import requests\n",
    "import json\n",
    "import re\n",
    "\n",
    "from selectolax.parser import HTMLParser\n",
    "from bs4 import BeautifulSoup"
   ]
  },
  {
   "cell_type": "code",
   "execution_count": 3,
   "id": "df9aeea8",
   "metadata": {},
   "outputs": [],
   "source": [
    "def parse_header(raw_header: str):\n",
    "    header = dict()\n",
    "\n",
    "    for line in raw_header.split(\"\\n\"):\n",
    "\n",
    "        if line.startswith(\":\"):\n",
    "            a, b = line[1:].split(\":\", 1)\n",
    "            a = f\":{a}\"\n",
    "        else:\n",
    "            a, b = line.split(\":\",1)\n",
    "\n",
    "        header[a.strip()] = b.strip()\n",
    "\n",
    "    return header"
   ]
  },
  {
   "cell_type": "code",
   "execution_count": 4,
   "id": "5f10c7c6",
   "metadata": {},
   "outputs": [],
   "source": [
    "header_str = \"\"\"accept: */*\n",
    "accept-encoding: gzip, deflate, br\n",
    "accept-language: ru-RU,ru;q=0.9,en-US;q=0.8,en;q=0.7\n",
    "cookie: A1=d=AQABBObjlWMCELURSo76ZewBp_V0DINbhUEFEgABCAGNOmRiZOS2b2UB9qMAAAcI5uOVY4NbhUE&S=AQAAAhCn1sRdFt9rlJfAvARe0a4; A3=d=AQABBObjlWMCELURSo76ZewBp_V0DINbhUEFEgABCAGNOmRiZOS2b2UB9qMAAAcI5uOVY4NbhUE&S=AQAAAhCn1sRdFt9rlJfAvARe0a4; B=431argdhpbov6&b=3&s=m6; GUC=AQABCAFkOo1kYkIdhwSM; A1S=d=AQABBObjlWMCELURSo76ZewBp_V0DINbhUEFEgABCAGNOmRiZOS2b2UB9qMAAAcI5uOVY4NbhUE&S=AQAAAhCn1sRdFt9rlJfAvARe0a4&j=GDPR; cmp=t=1682767671&j=1&u=1---&v=79; EuConsent=CPmFzsAPmFzsAAOACBESDBCoAP_AAEfAACiQJMtd_H__bX9v-f7_6ft0eY1f9_rz7uQzDhfNk-4F3L_W_LwX_2E7NF36tq4KmR4ku1DBIUNtHMnUDUmxaokVrzHsak2cpTNKJ-BkkHMZe2dYGF5vm5tj-QKZ5v5_d3f52T_9_dv-39z33913v3d93-_12PjdU5_9H_v_fR_b8_Kf9_7-_4v8_9_rk2_e3_____9v__4JMgEmGrcQBdiWOBNoGEUCIEYVhIRQKACCgGFogIAHBwU7KwCfWECABAKAIwIgQ4AowABAAABAEhEAEgRYIAAARAIAAQAIBEIACBgEFABYGAQAAgGgYohQACBIAZEBEUpgQEQJBAS2VCCUF0hphAFWWAFAIjYKABEAAArAAEBYOAYIkBKxYIEmINogAGCFAKJUK1BJ6YAYaADAAEEpxEAGAAIJTioAMAAQSnA; PRF=t%3D000069.SZ%252B000155.SZ%252B600369.SS%252BEME%252B2333.HK%252BBIDU%252BBEKE%26newChartbetateaser%3D1\n",
    "origin: https://finance.yahoo.com\n",
    "referer: https://finance.yahoo.com/quote/000069.SZ?p=000069.SZ&.tsrc=fin-srch\n",
    "sec-ch-ua: \"Chromium\";v=\"112\", \"Google Chrome\";v=\"112\", \"Not:A-Brand\";v=\"99\"\n",
    "sec-ch-ua-mobile: ?0\n",
    "sec-ch-ua-platform: \"macOS\"\n",
    "sec-fetch-dest: empty\n",
    "sec-fetch-mode: cors\n",
    "sec-fetch-site: same-site\n",
    "user-agent: Mozilla/5.0 (Macintosh; Intel Mac OS X 10_15_7) AppleWebKit/537.36 (KHTML, like Gecko) Chrome/112.0.0.0 Safari/537.36\"\"\""
   ]
  },
  {
   "cell_type": "code",
   "execution_count": 5,
   "id": "53ff487a",
   "metadata": {},
   "outputs": [],
   "source": [
    "headers = parse_header(header_str)"
   ]
  },
  {
   "cell_type": "code",
   "execution_count": 6,
   "id": "f9656ac8",
   "metadata": {},
   "outputs": [],
   "source": [
    "with open(\"headers.json\", \"w\") as file:\n",
    "    json.dump(headers, file)"
   ]
  },
  {
   "cell_type": "code",
   "execution_count": 30,
   "id": "058d4300",
   "metadata": {},
   "outputs": [],
   "source": [
    "params = {\n",
    "    \"q\": \"KEDA CLEAN ENERGY\",\n",
    "    \"lang\": \"en-US\",\n",
    "    \"region\": \"US\",\n",
    "    \"quotesCount\": 6,\n",
    "    \"enableFuzzyQuery\": \"false\",\n",
    "    \"quotesQueryId\": \"tss_match_phrase_query\",\n",
    "    \"multiQuoteQueryId\": \"multi_quote_single_token_query\",\n",
    "    \"newsQueryId\": \"news_cie_vespa\",\n",
    "    \"enableCb\": \"true\",\n",
    "    \"enableNavLinks\": \"true\",\n",
    "    \"enableEnhancedTrivialQuery\": \"true\",\n",
    "    \"enableResearchReports\": \"true\",\n",
    "    \"enableCulturalAssets\": \"true\",\n",
    "    \"enableLogoUrl\": \"true\",\n",
    "    \"researchReportsCount\": 2\n",
    "}"
   ]
  },
  {
   "cell_type": "code",
   "execution_count": 35,
   "id": "8d24a3d1",
   "metadata": {},
   "outputs": [],
   "source": [
    "resp = requests.get(\n",
    "    \"https://query1.finance.yahoo.com/v1/finance/search\",\n",
    "    params=params,\n",
    "    headers=headers\n",
    ")"
   ]
  },
  {
   "cell_type": "code",
   "execution_count": 36,
   "id": "02a604ed",
   "metadata": {},
   "outputs": [
    {
     "data": {
      "text/plain": [
       "'<!doctype html public \"-//W3C//DTD HTML 4.01//EN\" \"http://www.w3.org/TR/html4/strict.dtd\">\\n<html>\\n<head>\\n    <title>Yahoo! - Error report</title>\\n    <style>\\n        /* nn4 hide */ /*/*/\\n        body {\\n        font: small/ 1.2em arial, helvetica, clean, sans-serif;\\n        font: x-small;\\n        text-align: center;\\n        }\\n\\n        table {\\n        font-size: inherit;\\n        font: x-small;\\n        }\\n\\n        html>body {\\n        font: 83%/ 1.2em arial, helvetica, clean, sans-serif;\\n        }\\n\\n        input {\\n        font-size: 100%;\\n        vertical-align: middle;\\n        }\\n\\n        p,form {\\n        margin: 0;\\n        padding: 0;\\n        }\\n\\n        p {\\n        padding-bottom: 6px;\\n        margin-bottom: 10px;\\n        }\\n\\n        #doc {\\n        width: 48.5em;\\n        margin: 0 auto;\\n        border: 1px solid #fff;\\n        text-align: center;\\n        }\\n\\n        #ygma {\\n        text-align: right;\\n        margin-bottom: 53px\\n        }\\n\\n        #ygma img {\\n        float: left;\\n        }\\n\\n        #ygma div {\\n        border-bottom: 1px solid #ccc;\\n        padding-bottom: 8px;\\n        margin-left: 152px;\\n        }\\n\\n        #bd {\\n        clear: both;\\n        text-align: left;\\n        width: 75%;\\n        margin: 0 auto 20px;\\n        }\\n\\n        h1 {\\n        font-size: 135%;\\n        text-align: center;\\n        margin: 0 0 15px;\\n        }\\n\\n        legend {\\n        display: none;\\n        }\\n\\n        fieldset {\\n        border: 0 solid #fff;\\n        padding: .8em 0 .8em 4.5em;\\n        }\\n\\n        form {\\n        position: relative;\\n        background: #eee;\\n        margin-bottom: 15px;\\n        border: 1px solid #ccc;\\n        border-width: 1px 0;\\n        }\\n\\n        #s1p {\\n        width: 15em;\\n        margin-right: .1em;\\n        }\\n\\n        form span {\\n        position: absolute;\\n        left: 70%;\\n        top: .8em;\\n        }\\n\\n        form a {\\n        font: 78%/ 1.2em arial;\\n        display: block;\\n        padding-left: .8em;\\n        white-space: nowrap;\\n        background: url(https://s.yimg.com/lq/a/i/s/bullet.gif)\\n        no-repeat left center;\\n        }\\n\\n        form .sep {\\n        display: none;\\n        }\\n\\n        .more {\\n        text-align: center;\\n        }\\n\\n        #ft {\\n        padding-top: 10px;\\n        border-top: 1px solid #999;\\n        }\\n\\n        #ft p {\\n        text-align: center;\\n        font: 78% arial;\\n        }\\n        /* end nn4 hide */\\n    </style>\\n</head>\\n<body>\\n<div id=\"doc\">\\n    <div id=\"ygma\">\\n        <a href=\"http://www.yahoo.com\">\\n            <img src=\"https://s.yimg.com/lq/a/i/yahoo.gif\" width=\"147\"\\n                 height=\"31\" border=\"0\" alt=\"Yahoo!\">\\n        </a>\\n\\n        <div>\\n            <a href=\"http://www.yahoo.com\">Yahoo!</a>\\n            - <a href=\"http://help.yahoo.com\">Help</a>\\n        </div>\\n    </div>\\n    <div id=\"bd\">\\n        <h1>HTTP Status 404 - Not Found</h1>\\n\\n        <p>\\n            <b>type</b>\\n            Exception report\\n        </p>\\n\\n        <p>\\n            <b>message</b>\\n            <u>Not Found</u>\\n        </p>\\n\\n        <p>\\n            <b>description</b>\\n            <u>Not Found</u>\\n        </p>\\n\\n        <p>\\n            \\n        </p>\\n    </div>\\n</div>\\n</body>\\n</html>\\n'"
      ]
     },
     "execution_count": 36,
     "metadata": {},
     "output_type": "execute_result"
    }
   ],
   "source": [
    "resp.text"
   ]
  },
  {
   "cell_type": "code",
   "execution_count": 11,
   "id": "16c67e2c",
   "metadata": {},
   "outputs": [
    {
     "ename": "TypeError",
     "evalue": "'Response' object is not subscriptable",
     "output_type": "error",
     "traceback": [
      "\u001b[0;31m---------------------------------------------------------------------------\u001b[0m",
      "\u001b[0;31mTypeError\u001b[0m                                 Traceback (most recent call last)",
      "Cell \u001b[0;32mIn[11], line 1\u001b[0m\n\u001b[0;32m----> 1\u001b[0m quote \u001b[38;5;241m=\u001b[39m \u001b[43mresp\u001b[49m\u001b[43m[\u001b[49m\u001b[38;5;124;43m\"\u001b[39;49m\u001b[38;5;124;43mquotes\u001b[39;49m\u001b[38;5;124;43m\"\u001b[39;49m\u001b[43m]\u001b[49m[\u001b[38;5;241m0\u001b[39m][\u001b[38;5;124m\"\u001b[39m\u001b[38;5;124msymbol\u001b[39m\u001b[38;5;124m\"\u001b[39m]\n",
      "\u001b[0;31mTypeError\u001b[0m: 'Response' object is not subscriptable"
     ]
    }
   ],
   "source": [
    "quote = resp[\"quotes\"][0][\"symbol\"]"
   ]
  },
  {
   "cell_type": "code",
   "execution_count": 47,
   "id": "4d0d623b",
   "metadata": {},
   "outputs": [],
   "source": [
    "params = {\n",
    "    \"lang\": \"en-US\",\n",
    "    \"region\": \"US\",\n",
    "    \"symbol\": \"3968.HK\",\n",
    "    \"padTimeSeries\": \"true\",\n",
    "    \"type\": \",\".join(of_interest),\n",
    "    \"merge\": \"false\",\n",
    "    \"period1\": 493590046,\n",
    "    \"period2\": 1682771124,\n",
    "    \"corsDomain\": \"finance.yahoo.com\"\n",
    "}"
   ]
  },
  {
   "cell_type": "code",
   "execution_count": 49,
   "id": "df2306d8",
   "metadata": {},
   "outputs": [],
   "source": [
    "# https://finance.yahoo.com/quote/3968.HK/cash-flow?p=3968.HK"
   ]
  },
  {
   "cell_type": "code",
   "execution_count": 61,
   "id": "073774b4",
   "metadata": {},
   "outputs": [],
   "source": [
    "res = requests.get(\n",
    "    \"https://query1.finance.yahoo.com/ws/fundamentals-timeseries/v1/finance/timeseries/UK?lang=en-US&region=US&symbol=UK&padTimeSeries=true&type=annualTotalRevenue%2CannualBasicEPS%2CannualTotalAssets%2CannualNetIncome%2CannualTotalLiabilitiesNetMinorityInterest%2CannualTotalEquityGrossMinorityInterest%2CannualInvestingCashFlow%2CannualTotalCapitalization&merge=false&period1=493590046&period2=1682771124&corsDomain=finance.yahoo.com\",\n",
    "    headers=headers\n",
    ").json()"
   ]
  },
  {
   "cell_type": "code",
   "execution_count": 50,
   "id": "1483dee3",
   "metadata": {},
   "outputs": [],
   "source": [
    "resp = requests.get(\n",
    "    \"https://query1.finance.yahoo.com/ws/fundamentals-timeseries/v1/finance/timeseries/3968.HK\",\n",
    "    headers=headers,\n",
    "    params=params\n",
    ").json()"
   ]
  },
  {
   "cell_type": "code",
   "execution_count": 52,
   "id": "1830f1cb",
   "metadata": {},
   "outputs": [],
   "source": [
    "of_interest = [\n",
    "    \"annualTotalRevenue\", \"annualBasicEPS\", \"annualTotalAssets\", \n",
    "    \"annualNetIncome\", \"annualTotalLiabilitiesNetMinorityInterest\",\n",
    "    \"annualTotalEquityGrossMinorityInterest\", \"annualInvestingCashFlow\",\n",
    "    \"annualTotalCapitalization\"\n",
    "]"
   ]
  },
  {
   "cell_type": "code",
   "execution_count": 62,
   "id": "4665bab6",
   "metadata": {},
   "outputs": [
    {
     "data": {
      "text/plain": [
       "['annualNetIncome',\n",
       " 'annualTotalLiabilitiesNetMinorityInterest',\n",
       " 'annualTotalEquityGrossMinorityInterest',\n",
       " 'annualTotalRevenue',\n",
       " 'annualTotalCapitalization',\n",
       " 'annualBasicEPS',\n",
       " 'annualTotalAssets',\n",
       " 'annualInvestingCashFlow']"
      ]
     },
     "execution_count": 62,
     "metadata": {},
     "output_type": "execute_result"
    }
   ],
   "source": [
    "[\n",
    "    res[\"meta\"][\"type\"][0] for res in resp[\"timeseries\"][\"result\"]\n",
    "]"
   ]
  },
  {
   "cell_type": "code",
   "execution_count": 22,
   "id": "297fae72",
   "metadata": {},
   "outputs": [
    {
     "data": {
      "text/plain": [
       "False"
      ]
     },
     "execution_count": 22,
     "metadata": {},
     "output_type": "execute_result"
    }
   ],
   "source": [
    "bool(\"\")"
   ]
  },
  {
   "cell_type": "code",
   "execution_count": 41,
   "id": "d0816411",
   "metadata": {},
   "outputs": [],
   "source": [
    "from datetime import datetime"
   ]
  },
  {
   "cell_type": "code",
   "execution_count": 43,
   "id": "17d32d5c",
   "metadata": {},
   "outputs": [
    {
     "data": {
      "text/plain": [
       "2021"
      ]
     },
     "execution_count": 43,
     "metadata": {},
     "output_type": "execute_result"
    }
   ],
   "source": [
    "datetime.strptime(\"2021-10-02\", \"%Y-%M-%d\").year"
   ]
  },
  {
   "cell_type": "code",
   "execution_count": 6,
   "id": "9d3b0376",
   "metadata": {},
   "outputs": [],
   "source": [
    "resp = requests.get(\n",
    "    \"https://finance.yahoo.com/quote/605117.SS/profile?p=605117.SS\",\n",
    "    headers=headers\n",
    ")"
   ]
  },
  {
   "cell_type": "code",
   "execution_count": 20,
   "id": "43e20af7",
   "metadata": {},
   "outputs": [
    {
     "data": {
      "text/plain": [
       "'3,791'"
      ]
     },
     "execution_count": 20,
     "metadata": {},
     "output_type": "execute_result"
    }
   ],
   "source": [
    "soup = BeautifulSoup(resp.text, \"html.parser\")\n",
    "soup.find(\"span\", string=re.compile(\"Full\")).findNext().text"
   ]
  }
 ],
 "metadata": {
  "kernelspec": {
   "display_name": "Python 3 (ipykernel)",
   "language": "python",
   "name": "python3"
  },
  "language_info": {
   "codemirror_mode": {
    "name": "ipython",
    "version": 3
   },
   "file_extension": ".py",
   "mimetype": "text/x-python",
   "name": "python",
   "nbconvert_exporter": "python",
   "pygments_lexer": "ipython3",
   "version": "3.11.0"
  }
 },
 "nbformat": 4,
 "nbformat_minor": 5
}
