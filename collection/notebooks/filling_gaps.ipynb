{
 "cells": [
  {
   "cell_type": "code",
   "execution_count": 176,
   "id": "fee195aa",
   "metadata": {},
   "outputs": [],
   "source": [
    "import pandas as pd\n",
    "import os\n",
    "import openai\n",
    "import numpy as np\n",
    "os.chdir(\"..\")"
   ]
  },
  {
   "cell_type": "code",
   "execution_count": 227,
   "id": "95d5d7f5",
   "metadata": {},
   "outputs": [],
   "source": [
    "import re"
   ]
  },
  {
   "cell_type": "code",
   "execution_count": 180,
   "id": "6b8ebeb9",
   "metadata": {},
   "outputs": [],
   "source": [
    "bil_cols = [\n",
    "    'total_revenue_2019', 'total_revenue_2020',\n",
    "    'total_revenue_2021', 'total_revenue_2022',\n",
    "    'total_assets_2019', 'total_assets_2020', 'total_assets_2021',\n",
    "    'total_assets_2022', 'net_income_2019', 'net_income_2020',\n",
    "    'net_income_2021', 'net_income_2022', 'total_liabilities_2019',\n",
    "    'total_liabilities_2020', 'total_liabilities_2021',\n",
    "    'total_liabilities_2022', 'total_equity_2019', 'total_equity_2020',\n",
    "    'total_equity_2021', 'total_equity_2022', 'investing_cashflow_2019',\n",
    "    'investing_cashflow_2020', 'investing_cashflow_2021',\n",
    "    'investing_cashflow_2022', 'total_capitalization_2019',\n",
    "    'total_capitalization_2020', 'total_capitalization_2021',\n",
    "    'total_capitalization_2022'\n",
    "]"
   ]
  },
  {
   "cell_type": "code",
   "execution_count": 272,
   "id": "9128e844",
   "metadata": {},
   "outputs": [],
   "source": [
    "df = pd.read_csv(\"data.csv\")\n",
    "df[bil_cols] = round(df[bil_cols] / 1e9, 3)"
   ]
  },
  {
   "cell_type": "code",
   "execution_count": 278,
   "id": "7f254d01",
   "metadata": {},
   "outputs": [
    {
     "data": {
      "text/plain": [
       "total_revenue_2019           359\n",
       "total_revenue_2020           277\n",
       "total_revenue_2021           281\n",
       "total_revenue_2022           463\n",
       "total_assets_2019            365\n",
       "total_assets_2020            276\n",
       "total_assets_2021            277\n",
       "total_assets_2022            462\n",
       "net_income_2019              358\n",
       "net_income_2020              276\n",
       "net_income_2021              280\n",
       "net_income_2022              462\n",
       "total_liabilities_2019       365\n",
       "total_liabilities_2020       276\n",
       "total_liabilities_2021       277\n",
       "total_liabilities_2022       462\n",
       "total_equity_2019            365\n",
       "total_equity_2020            276\n",
       "total_equity_2021            277\n",
       "total_equity_2022            462\n",
       "investing_cashflow_2019      362\n",
       "investing_cashflow_2020      280\n",
       "investing_cashflow_2021      282\n",
       "investing_cashflow_2022      485\n",
       "total_capitalization_2019    365\n",
       "total_capitalization_2020    277\n",
       "total_capitalization_2021    278\n",
       "total_capitalization_2022    462\n",
       "dtype: int64"
      ]
     },
     "execution_count": 278,
     "metadata": {},
     "output_type": "execute_result"
    }
   ],
   "source": [
    "df[bil_cols].isna().sum()"
   ]
  },
  {
   "cell_type": "code",
   "execution_count": 271,
   "id": "c420b3bc",
   "metadata": {},
   "outputs": [],
   "source": [
    "df.to_csv(\"data_01_05.csv\", index=False)"
   ]
  }
 ],
 "metadata": {
  "kernelspec": {
   "display_name": "Python 3 (ipykernel)",
   "language": "python",
   "name": "python3"
  },
  "language_info": {
   "codemirror_mode": {
    "name": "ipython",
    "version": 3
   },
   "file_extension": ".py",
   "mimetype": "text/x-python",
   "name": "python",
   "nbconvert_exporter": "python",
   "pygments_lexer": "ipython3",
   "version": "3.11.0"
  }
 },
 "nbformat": 4,
 "nbformat_minor": 5
}
