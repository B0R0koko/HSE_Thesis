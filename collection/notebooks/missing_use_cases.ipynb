{
 "cells": [
  {
   "cell_type": "markdown",
   "id": "2f793e96",
   "metadata": {},
   "source": [
    "<h4>Filling in missing use cases of blockchain for companies that are known to use blockchain</h4>"
   ]
  },
  {
   "cell_type": "code",
   "execution_count": 2,
   "id": "d689e858",
   "metadata": {},
   "outputs": [],
   "source": [
    "import requests\n",
    "import json"
   ]
  },
  {
   "cell_type": "code",
   "execution_count": null,
   "id": "b39003d6",
   "metadata": {},
   "outputs": [],
   "source": []
  }
 ],
 "metadata": {
  "kernelspec": {
   "display_name": "Python 3 (ipykernel)",
   "language": "python",
   "name": "python3"
  },
  "language_info": {
   "codemirror_mode": {
    "name": "ipython",
    "version": 3
   },
   "file_extension": ".py",
   "mimetype": "text/x-python",
   "name": "python",
   "nbconvert_exporter": "python",
   "pygments_lexer": "ipython3",
   "version": "3.11.0"
  }
 },
 "nbformat": 4,
 "nbformat_minor": 5
}
