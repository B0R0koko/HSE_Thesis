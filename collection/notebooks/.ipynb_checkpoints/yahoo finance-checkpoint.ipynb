{
 "cells": [
  {
   "cell_type": "code",
   "execution_count": 1,
   "id": "b68e1c39",
   "metadata": {},
   "outputs": [],
   "source": [
    "import yfinance as yf\n",
    "import pandas as pd\n",
    "import requests\n",
    "import json\n",
    "\n",
    "from selectolax.parser import HTMLParser"
   ]
  },
  {
   "cell_type": "code",
   "execution_count": 2,
   "id": "df9aeea8",
   "metadata": {},
   "outputs": [],
   "source": [
    "def parse_header(raw_header: str):\n",
    "    header = dict()\n",
    "\n",
    "    for line in raw_header.split(\"\\n\"):\n",
    "\n",
    "        if line.startswith(\":\"):\n",
    "            a, b = line[1:].split(\":\", 1)\n",
    "            a = f\":{a}\"\n",
    "        else:\n",
    "            a, b = line.split(\":\",1)\n",
    "\n",
    "        header[a.strip()] = b.strip()\n",
    "\n",
    "    return header"
   ]
  },
  {
   "cell_type": "code",
   "execution_count": 45,
   "id": "5f10c7c6",
   "metadata": {},
   "outputs": [],
   "source": [
    "header_str = \"\"\"accept: */*\n",
    "accept-encoding: gzip, deflate, br\n",
    "accept-language: ru-RU,ru;q=0.9,en-US;q=0.8,en;q=0.7\n",
    "cookie: A1=d=AQABBObjlWMCELURSo76ZewBp_V0DINbhUEFEgABCAGNOmRiZOS2b2UB9qMAAAcI5uOVY4NbhUE&S=AQAAAhCn1sRdFt9rlJfAvARe0a4; A3=d=AQABBObjlWMCELURSo76ZewBp_V0DINbhUEFEgABCAGNOmRiZOS2b2UB9qMAAAcI5uOVY4NbhUE&S=AQAAAhCn1sRdFt9rlJfAvARe0a4; B=431argdhpbov6&b=3&s=m6; GUC=AQABCAFkOo1kYkIdhwSM; A1S=d=AQABBObjlWMCELURSo76ZewBp_V0DINbhUEFEgABCAGNOmRiZOS2b2UB9qMAAAcI5uOVY4NbhUE&S=AQAAAhCn1sRdFt9rlJfAvARe0a4&j=GDPR; cmp=t=1682767671&j=1&u=1---&v=79; EuConsent=CPmFzsAPmFzsAAOACBESDBCoAP_AAEfAACiQJMtd_H__bX9v-f7_6ft0eY1f9_rz7uQzDhfNk-4F3L_W_LwX_2E7NF36tq4KmR4ku1DBIUNtHMnUDUmxaokVrzHsak2cpTNKJ-BkkHMZe2dYGF5vm5tj-QKZ5v5_d3f52T_9_dv-39z33913v3d93-_12PjdU5_9H_v_fR_b8_Kf9_7-_4v8_9_rk2_e3_____9v__4JMgEmGrcQBdiWOBNoGEUCIEYVhIRQKACCgGFogIAHBwU7KwCfWECABAKAIwIgQ4AowABAAABAEhEAEgRYIAAARAIAAQAIBEIACBgEFABYGAQAAgGgYohQACBIAZEBEUpgQEQJBAS2VCCUF0hphAFWWAFAIjYKABEAAArAAEBYOAYIkBKxYIEmINogAGCFAKJUK1BJ6YAYaADAAEEpxEAGAAIJTioAMAAQSnA; PRF=t%3D000069.SZ%252B000155.SZ%252B600369.SS%252BEME%252B2333.HK%252BBIDU%252BBEKE%26newChartbetateaser%3D1\n",
    "origin: https://finance.yahoo.com\n",
    "referer: https://finance.yahoo.com/quote/000069.SZ?p=000069.SZ&.tsrc=fin-srch\n",
    "sec-ch-ua: \"Chromium\";v=\"112\", \"Google Chrome\";v=\"112\", \"Not:A-Brand\";v=\"99\"\n",
    "sec-ch-ua-mobile: ?0\n",
    "sec-ch-ua-platform: \"macOS\"\n",
    "sec-fetch-dest: empty\n",
    "sec-fetch-mode: cors\n",
    "sec-fetch-site: same-site\n",
    "user-agent: Mozilla/5.0 (Macintosh; Intel Mac OS X 10_15_7) AppleWebKit/537.36 (KHTML, like Gecko) Chrome/112.0.0.0 Safari/537.36\"\"\""
   ]
  },
  {
   "cell_type": "code",
   "execution_count": 5,
   "id": "53ff487a",
   "metadata": {},
   "outputs": [],
   "source": [
    "headers = parse_header(header_str)"
   ]
  },
  {
   "cell_type": "code",
   "execution_count": 6,
   "id": "f9656ac8",
   "metadata": {},
   "outputs": [],
   "source": [
    "with open(\"headers.json\", \"w\") as file:\n",
    "    json.dump(headers, file)"
   ]
  },
  {
   "cell_type": "code",
   "execution_count": 30,
   "id": "058d4300",
   "metadata": {},
   "outputs": [],
   "source": [
    "params = {\n",
    "    \"q\": \"KEDA CLEAN ENERGY\",\n",
    "    \"lang\": \"en-US\",\n",
    "    \"region\": \"US\",\n",
    "    \"quotesCount\": 6,\n",
    "    \"enableFuzzyQuery\": \"false\",\n",
    "    \"quotesQueryId\": \"tss_match_phrase_query\",\n",
    "    \"multiQuoteQueryId\": \"multi_quote_single_token_query\",\n",
    "    \"newsQueryId\": \"news_cie_vespa\",\n",
    "    \"enableCb\": \"true\",\n",
    "    \"enableNavLinks\": \"true\",\n",
    "    \"enableEnhancedTrivialQuery\": \"true\",\n",
    "    \"enableResearchReports\": \"true\",\n",
    "    \"enableCulturalAssets\": \"true\",\n",
    "    \"enableLogoUrl\": \"true\",\n",
    "    \"researchReportsCount\": 2\n",
    "}"
   ]
  },
  {
   "cell_type": "code",
   "execution_count": 35,
   "id": "8d24a3d1",
   "metadata": {},
   "outputs": [],
   "source": [
    "resp = requests.get(\n",
    "    \"https://query1.finance.yahoo.com/v1/finance/search\",\n",
    "    params=params,\n",
    "    headers=headers\n",
    ")"
   ]
  },
  {
   "cell_type": "code",
   "execution_count": 36,
   "id": "02a604ed",
   "metadata": {},
   "outputs": [
    {
     "data": {
      "text/plain": [
       "'<!doctype html public \"-//W3C//DTD HTML 4.01//EN\" \"http://www.w3.org/TR/html4/strict.dtd\">\\n<html>\\n<head>\\n    <title>Yahoo! - Error report</title>\\n    <style>\\n        /* nn4 hide */ /*/*/\\n        body {\\n        font: small/ 1.2em arial, helvetica, clean, sans-serif;\\n        font: x-small;\\n        text-align: center;\\n        }\\n\\n        table {\\n        font-size: inherit;\\n        font: x-small;\\n        }\\n\\n        html>body {\\n        font: 83%/ 1.2em arial, helvetica, clean, sans-serif;\\n        }\\n\\n        input {\\n        font-size: 100%;\\n        vertical-align: middle;\\n        }\\n\\n        p,form {\\n        margin: 0;\\n        padding: 0;\\n        }\\n\\n        p {\\n        padding-bottom: 6px;\\n        margin-bottom: 10px;\\n        }\\n\\n        #doc {\\n        width: 48.5em;\\n        margin: 0 auto;\\n        border: 1px solid #fff;\\n        text-align: center;\\n        }\\n\\n        #ygma {\\n        text-align: right;\\n        margin-bottom: 53px\\n        }\\n\\n        #ygma img {\\n        float: left;\\n        }\\n\\n        #ygma div {\\n        border-bottom: 1px solid #ccc;\\n        padding-bottom: 8px;\\n        margin-left: 152px;\\n        }\\n\\n        #bd {\\n        clear: both;\\n        text-align: left;\\n        width: 75%;\\n        margin: 0 auto 20px;\\n        }\\n\\n        h1 {\\n        font-size: 135%;\\n        text-align: center;\\n        margin: 0 0 15px;\\n        }\\n\\n        legend {\\n        display: none;\\n        }\\n\\n        fieldset {\\n        border: 0 solid #fff;\\n        padding: .8em 0 .8em 4.5em;\\n        }\\n\\n        form {\\n        position: relative;\\n        background: #eee;\\n        margin-bottom: 15px;\\n        border: 1px solid #ccc;\\n        border-width: 1px 0;\\n        }\\n\\n        #s1p {\\n        width: 15em;\\n        margin-right: .1em;\\n        }\\n\\n        form span {\\n        position: absolute;\\n        left: 70%;\\n        top: .8em;\\n        }\\n\\n        form a {\\n        font: 78%/ 1.2em arial;\\n        display: block;\\n        padding-left: .8em;\\n        white-space: nowrap;\\n        background: url(https://s.yimg.com/lq/a/i/s/bullet.gif)\\n        no-repeat left center;\\n        }\\n\\n        form .sep {\\n        display: none;\\n        }\\n\\n        .more {\\n        text-align: center;\\n        }\\n\\n        #ft {\\n        padding-top: 10px;\\n        border-top: 1px solid #999;\\n        }\\n\\n        #ft p {\\n        text-align: center;\\n        font: 78% arial;\\n        }\\n        /* end nn4 hide */\\n    </style>\\n</head>\\n<body>\\n<div id=\"doc\">\\n    <div id=\"ygma\">\\n        <a href=\"http://www.yahoo.com\">\\n            <img src=\"https://s.yimg.com/lq/a/i/yahoo.gif\" width=\"147\"\\n                 height=\"31\" border=\"0\" alt=\"Yahoo!\">\\n        </a>\\n\\n        <div>\\n            <a href=\"http://www.yahoo.com\">Yahoo!</a>\\n            - <a href=\"http://help.yahoo.com\">Help</a>\\n        </div>\\n    </div>\\n    <div id=\"bd\">\\n        <h1>HTTP Status 404 - Not Found</h1>\\n\\n        <p>\\n            <b>type</b>\\n            Exception report\\n        </p>\\n\\n        <p>\\n            <b>message</b>\\n            <u>Not Found</u>\\n        </p>\\n\\n        <p>\\n            <b>description</b>\\n            <u>Not Found</u>\\n        </p>\\n\\n        <p>\\n            \\n        </p>\\n    </div>\\n</div>\\n</body>\\n</html>\\n'"
      ]
     },
     "execution_count": 36,
     "metadata": {},
     "output_type": "execute_result"
    }
   ],
   "source": [
    "resp.text"
   ]
  },
  {
   "cell_type": "code",
   "execution_count": 11,
   "id": "16c67e2c",
   "metadata": {},
   "outputs": [
    {
     "ename": "TypeError",
     "evalue": "'Response' object is not subscriptable",
     "output_type": "error",
     "traceback": [
      "\u001b[0;31m---------------------------------------------------------------------------\u001b[0m",
      "\u001b[0;31mTypeError\u001b[0m                                 Traceback (most recent call last)",
      "Cell \u001b[0;32mIn[11], line 1\u001b[0m\n\u001b[0;32m----> 1\u001b[0m quote \u001b[38;5;241m=\u001b[39m \u001b[43mresp\u001b[49m\u001b[43m[\u001b[49m\u001b[38;5;124;43m\"\u001b[39;49m\u001b[38;5;124;43mquotes\u001b[39;49m\u001b[38;5;124;43m\"\u001b[39;49m\u001b[43m]\u001b[49m[\u001b[38;5;241m0\u001b[39m][\u001b[38;5;124m\"\u001b[39m\u001b[38;5;124msymbol\u001b[39m\u001b[38;5;124m\"\u001b[39m]\n",
      "\u001b[0;31mTypeError\u001b[0m: 'Response' object is not subscriptable"
     ]
    }
   ],
   "source": [
    "quote = resp[\"quotes\"][0][\"symbol\"]"
   ]
  },
  {
   "cell_type": "code",
   "execution_count": 47,
   "id": "4d0d623b",
   "metadata": {},
   "outputs": [],
   "source": [
    "params = {\n",
    "    \"lang\": \"en-US\",\n",
    "    \"region\": \"US\",\n",
    "    \"symbol\": \"3968.HK\",\n",
    "    \"padTimeSeries\": \"true\",\n",
    "    \"type\": \",\".join(of_interest),\n",
    "    \"merge\": \"false\",\n",
    "    \"period1\": 493590046,\n",
    "    \"period2\": 1682771124,\n",
    "    \"corsDomain\": \"finance.yahoo.com\"\n",
    "}"
   ]
  },
  {
   "cell_type": "code",
   "execution_count": 49,
   "id": "df2306d8",
   "metadata": {},
   "outputs": [],
   "source": [
    "# https://finance.yahoo.com/quote/3968.HK/cash-flow?p=3968.HK"
   ]
  },
  {
   "cell_type": "code",
   "execution_count": 61,
   "id": "073774b4",
   "metadata": {},
   "outputs": [],
   "source": [
    "res = requests.get(\n",
    "    \"https://query1.finance.yahoo.com/ws/fundamentals-timeseries/v1/finance/timeseries/UK?lang=en-US&region=US&symbol=UK&padTimeSeries=true&type=annualTotalRevenue%2CannualBasicEPS%2CannualTotalAssets%2CannualNetIncome%2CannualTotalLiabilitiesNetMinorityInterest%2CannualTotalEquityGrossMinorityInterest%2CannualInvestingCashFlow%2CannualTotalCapitalization&merge=false&period1=493590046&period2=1682771124&corsDomain=finance.yahoo.com\",\n",
    "    headers=headers\n",
    ").json()"
   ]
  },
  {
   "cell_type": "code",
   "execution_count": 50,
   "id": "1483dee3",
   "metadata": {},
   "outputs": [],
   "source": [
    "resp = requests.get(\n",
    "    \"https://query1.finance.yahoo.com/ws/fundamentals-timeseries/v1/finance/timeseries/3968.HK\",\n",
    "    headers=headers,\n",
    "    params=params\n",
    ").json()"
   ]
  },
  {
   "cell_type": "code",
   "execution_count": 52,
   "id": "1830f1cb",
   "metadata": {},
   "outputs": [],
   "source": [
    "of_interest = [\n",
    "    \"annualTotalRevenue\", \"annualBasicEPS\", \"annualTotalAssets\", \n",
    "    \"annualNetIncome\", \"annualTotalLiabilitiesNetMinorityInterest\",\n",
    "    \"annualTotalEquityGrossMinorityInterest\", \"annualInvestingCashFlow\",\n",
    "    \"annualTotalCapitalization\"\n",
    "]"
   ]
  },
  {
   "cell_type": "code",
   "execution_count": 62,
   "id": "4665bab6",
   "metadata": {},
   "outputs": [
    {
     "data": {
      "text/plain": [
       "['annualNetIncome',\n",
       " 'annualTotalLiabilitiesNetMinorityInterest',\n",
       " 'annualTotalEquityGrossMinorityInterest',\n",
       " 'annualTotalRevenue',\n",
       " 'annualTotalCapitalization',\n",
       " 'annualBasicEPS',\n",
       " 'annualTotalAssets',\n",
       " 'annualInvestingCashFlow']"
      ]
     },
     "execution_count": 62,
     "metadata": {},
     "output_type": "execute_result"
    }
   ],
   "source": [
    "[\n",
    "    res[\"meta\"][\"type\"][0] for res in resp[\"timeseries\"][\"result\"]\n",
    "]"
   ]
  },
  {
   "cell_type": "code",
   "execution_count": 41,
   "id": "d0816411",
   "metadata": {},
   "outputs": [],
   "source": [
    "from datetime import datetime"
   ]
  },
  {
   "cell_type": "code",
   "execution_count": 43,
   "id": "17d32d5c",
   "metadata": {},
   "outputs": [
    {
     "data": {
      "text/plain": [
       "2021"
      ]
     },
     "execution_count": 43,
     "metadata": {},
     "output_type": "execute_result"
    }
   ],
   "source": [
    "datetime.strptime(\"2021-10-02\", \"%Y-%M-%d\").year"
   ]
  },
  {
   "cell_type": "code",
   "execution_count": 56,
   "id": "cbb80eb3",
   "metadata": {},
   "outputs": [
    {
     "data": {
      "text/plain": [
       "[{'meta': {'symbol': ['3968.HK'], 'type': ['annualBasicEPS']},\n",
       "  'timestamp': [1577750400, 1609372800, 1640908800, 1672444800],\n",
       "  'annualBasicEPS': [{'dataId': 29004,\n",
       "    'asOfDate': '2019-12-31',\n",
       "    'periodType': '12M',\n",
       "    'currencyCode': 'CNY',\n",
       "    'reportedValue': {'raw': 3.62, 'fmt': '3.62'}},\n",
       "   {'dataId': 29004,\n",
       "    'asOfDate': '2020-12-31',\n",
       "    'periodType': '12M',\n",
       "    'currencyCode': 'CNY',\n",
       "    'reportedValue': {'raw': 3.79, 'fmt': '3.79'}},\n",
       "   {'dataId': 29004,\n",
       "    'asOfDate': '2021-12-31',\n",
       "    'periodType': '12M',\n",
       "    'currencyCode': 'CNY',\n",
       "    'reportedValue': {'raw': 4.61, 'fmt': '4.61'}},\n",
       "   {'dataId': 29004,\n",
       "    'asOfDate': '2022-12-31',\n",
       "    'periodType': '12M',\n",
       "    'currencyCode': 'CNY',\n",
       "    'reportedValue': {'raw': 5.26, 'fmt': '5.26'}}]},\n",
       " {'meta': {'symbol': ['3968.HK'], 'type': ['annualNetIncome']},\n",
       "  'timestamp': [1577750400, 1609372800, 1640908800, 1672444800],\n",
       "  'annualNetIncome': [{'dataId': 20091,\n",
       "    'asOfDate': '2019-12-31',\n",
       "    'periodType': '12M',\n",
       "    'currencyCode': 'CNY',\n",
       "    'reportedValue': {'raw': 92867000000.0, 'fmt': '92.87B'}},\n",
       "   {'dataId': 20091,\n",
       "    'asOfDate': '2020-12-31',\n",
       "    'periodType': '12M',\n",
       "    'currencyCode': 'CNY',\n",
       "    'reportedValue': {'raw': 97342000000.0, 'fmt': '97.34B'}},\n",
       "   {'dataId': 20091,\n",
       "    'asOfDate': '2021-12-31',\n",
       "    'periodType': '12M',\n",
       "    'currencyCode': 'CNY',\n",
       "    'reportedValue': {'raw': 119922000000.0, 'fmt': '119.92B'}},\n",
       "   {'dataId': 20091,\n",
       "    'asOfDate': '2022-12-31',\n",
       "    'periodType': '12M',\n",
       "    'currencyCode': 'CNY',\n",
       "    'reportedValue': {'raw': 138012000000.0, 'fmt': '138.01B'}}]},\n",
       " {'meta': {'symbol': ['3968.HK'], 'type': ['annualTotalCapitalization']},\n",
       "  'timestamp': [1577750400, 1609372800, 1640908800, 1672444800],\n",
       "  'annualTotalCapitalization': [{'dataId': 23374,\n",
       "    'asOfDate': '2019-12-31',\n",
       "    'periodType': '12M',\n",
       "    'currencyCode': 'CNY',\n",
       "    'reportedValue': {'raw': 1355413000000.0, 'fmt': '1.36T'}},\n",
       "   {'dataId': 23374,\n",
       "    'asOfDate': '2020-12-31',\n",
       "    'periodType': '12M',\n",
       "    'currencyCode': 'CNY',\n",
       "    'reportedValue': {'raw': 1213408000000.0, 'fmt': '1.21T'}},\n",
       "   {'dataId': 23374,\n",
       "    'asOfDate': '2021-12-31',\n",
       "    'periodType': '12M',\n",
       "    'currencyCode': 'CNY',\n",
       "    'reportedValue': {'raw': 1476040000000.0, 'fmt': '1.48T'}},\n",
       "   {'dataId': 23374,\n",
       "    'asOfDate': '2022-12-31',\n",
       "    'periodType': '12M',\n",
       "    'currencyCode': 'CNY',\n",
       "    'reportedValue': {'raw': 1362181000000.0, 'fmt': '1.36T'}}]},\n",
       " {'meta': {'symbol': ['3968.HK'], 'type': ['annualTotalAssets']},\n",
       "  'timestamp': [1577750400, 1609372800, 1640908800, 1672444800],\n",
       "  'annualTotalAssets': [{'dataId': 23220,\n",
       "    'asOfDate': '2019-12-31',\n",
       "    'periodType': '12M',\n",
       "    'currencyCode': 'CNY',\n",
       "    'reportedValue': {'raw': 7417240000000.0, 'fmt': '7.42T'}},\n",
       "   {'dataId': 23220,\n",
       "    'asOfDate': '2020-12-31',\n",
       "    'periodType': '12M',\n",
       "    'currencyCode': 'CNY',\n",
       "    'reportedValue': {'raw': 8361448000000.0, 'fmt': '8.36T'}},\n",
       "   {'dataId': 23220,\n",
       "    'asOfDate': '2021-12-31',\n",
       "    'periodType': '12M',\n",
       "    'currencyCode': 'CNY',\n",
       "    'reportedValue': {'raw': 9249021000000.0, 'fmt': '9.25T'}},\n",
       "   {'dataId': 23220,\n",
       "    'asOfDate': '2022-12-31',\n",
       "    'periodType': '12M',\n",
       "    'currencyCode': 'CNY',\n",
       "    'reportedValue': {'raw': 10138912000000.0, 'fmt': '10.14T'}}]},\n",
       " {'meta': {'symbol': ['3968.HK'],\n",
       "   'type': ['annualTotalEquityGrossMinorityInterest']},\n",
       "  'timestamp': [1577750400, 1609372800, 1640908800, 1672444800],\n",
       "  'annualTotalEquityGrossMinorityInterest': [{'dataId': 23261,\n",
       "    'asOfDate': '2019-12-31',\n",
       "    'periodType': '12M',\n",
       "    'currencyCode': 'CNY',\n",
       "    'reportedValue': {'raw': 617707000000.0, 'fmt': '617.71B'}},\n",
       "   {'dataId': 23261,\n",
       "    'asOfDate': '2020-12-31',\n",
       "    'periodType': '12M',\n",
       "    'currencyCode': 'CNY',\n",
       "    'reportedValue': {'raw': 730354000000.0, 'fmt': '730.35B'}},\n",
       "   {'dataId': 23261,\n",
       "    'asOfDate': '2021-12-31',\n",
       "    'periodType': '12M',\n",
       "    'currencyCode': 'CNY',\n",
       "    'reportedValue': {'raw': 865681000000.0, 'fmt': '865.68B'}},\n",
       "   {'dataId': 23261,\n",
       "    'asOfDate': '2022-12-31',\n",
       "    'periodType': '12M',\n",
       "    'currencyCode': 'CNY',\n",
       "    'reportedValue': {'raw': 954238000000.0, 'fmt': '954.24B'}}]},\n",
       " {'meta': {'symbol': ['3968.HK'], 'type': ['annualInvestingCashFlow']},\n",
       "  'timestamp': [1577750400, 1609372800, 1640908800, 1672444800],\n",
       "  'annualInvestingCashFlow': [{'dataId': 26013,\n",
       "    'asOfDate': '2019-12-31',\n",
       "    'periodType': '12M',\n",
       "    'currencyCode': 'CNY',\n",
       "    'reportedValue': {'raw': -70571000000.0, 'fmt': '-70.57B'}},\n",
       "   {'dataId': 26013,\n",
       "    'asOfDate': '2020-12-31',\n",
       "    'periodType': '12M',\n",
       "    'currencyCode': 'CNY',\n",
       "    'reportedValue': {'raw': -240753000000.0, 'fmt': '-240.75B'}},\n",
       "   {'dataId': 26013,\n",
       "    'asOfDate': '2021-12-31',\n",
       "    'periodType': '12M',\n",
       "    'currencyCode': 'CNY',\n",
       "    'reportedValue': {'raw': -19697000000.0, 'fmt': '-19.70B'}},\n",
       "   {'dataId': 26013,\n",
       "    'asOfDate': '2022-12-31',\n",
       "    'periodType': '12M',\n",
       "    'currencyCode': 'CNY',\n",
       "    'reportedValue': {'raw': -513926000000.0, 'fmt': '-513.93B'}}]},\n",
       " {'meta': {'symbol': ['3968.HK'], 'type': ['annualTotalRevenue']},\n",
       "  'timestamp': [1577750400, 1609372800, 1640908800, 1672444800],\n",
       "  'annualTotalRevenue': [{'dataId': 20100,\n",
       "    'asOfDate': '2019-12-31',\n",
       "    'periodType': '12M',\n",
       "    'currencyCode': 'CNY',\n",
       "    'reportedValue': {'raw': 267980000000.0, 'fmt': '267.98B'}},\n",
       "   {'dataId': 20100,\n",
       "    'asOfDate': '2020-12-31',\n",
       "    'periodType': '12M',\n",
       "    'currencyCode': 'CNY',\n",
       "    'reportedValue': {'raw': 287601000000.0, 'fmt': '287.60B'}},\n",
       "   {'dataId': 20100,\n",
       "    'asOfDate': '2021-12-31',\n",
       "    'periodType': '12M',\n",
       "    'currencyCode': 'CNY',\n",
       "    'reportedValue': {'raw': 327223000000.0, 'fmt': '327.22B'}},\n",
       "   {'dataId': 20100,\n",
       "    'asOfDate': '2022-12-31',\n",
       "    'periodType': '12M',\n",
       "    'currencyCode': 'CNY',\n",
       "    'reportedValue': {'raw': 342258000000.0, 'fmt': '342.26B'}}]},\n",
       " {'meta': {'symbol': ['3968.HK'],\n",
       "   'type': ['annualTotalLiabilitiesNetMinorityInterest']},\n",
       "  'timestamp': [1577750400, 1609372800, 1640908800, 1672444800],\n",
       "  'annualTotalLiabilitiesNetMinorityInterest': [{'dataId': 23259,\n",
       "    'asOfDate': '2019-12-31',\n",
       "    'periodType': '12M',\n",
       "    'currencyCode': 'CNY',\n",
       "    'reportedValue': {'raw': 6799533000000.0, 'fmt': '6.80T'}},\n",
       "   {'dataId': 23259,\n",
       "    'asOfDate': '2020-12-31',\n",
       "    'periodType': '12M',\n",
       "    'currencyCode': 'CNY',\n",
       "    'reportedValue': {'raw': 7631094000000.0, 'fmt': '7.63T'}},\n",
       "   {'dataId': 23259,\n",
       "    'asOfDate': '2021-12-31',\n",
       "    'periodType': '12M',\n",
       "    'currencyCode': 'CNY',\n",
       "    'reportedValue': {'raw': 8383340000000.0, 'fmt': '8.38T'}},\n",
       "   {'dataId': 23259,\n",
       "    'asOfDate': '2022-12-31',\n",
       "    'periodType': '12M',\n",
       "    'currencyCode': 'CNY',\n",
       "    'reportedValue': {'raw': 9184674000000.0, 'fmt': '9.18T'}}]}]"
      ]
     },
     "execution_count": 56,
     "metadata": {},
     "output_type": "execute_result"
    }
   ],
   "source": [
    "resp[\"timeseries\"][\"result\"]"
   ]
  },
  {
   "cell_type": "code",
   "execution_count": 64,
   "id": "c64e7315",
   "metadata": {},
   "outputs": [
    {
     "name": "stdout",
     "output_type": "stream",
     "text": [
      "{'dataId': 20091, 'asOfDate': '2019-12-31', 'periodType': '12M', 'currencyCode': 'CNY', 'reportedValue': {'raw': -791150000.0, 'fmt': '-791.15M'}}\n",
      "{'dataId': 20091, 'asOfDate': '2020-12-31', 'periodType': '12M', 'currencyCode': 'CNY', 'reportedValue': {'raw': -488492000.0, 'fmt': '-488.49M'}}\n",
      "{'dataId': 20091, 'asOfDate': '2021-12-31', 'periodType': '12M', 'currencyCode': 'CNY', 'reportedValue': {'raw': -1996413000.0, 'fmt': '-2.00B'}}\n",
      "{'dataId': 20091, 'asOfDate': '2022-12-31', 'periodType': '12M', 'currencyCode': 'CNY', 'reportedValue': {'raw': -291674000.0, 'fmt': '-291.67M'}}\n",
      "{'dataId': 23259, 'asOfDate': '2019-12-31', 'periodType': '12M', 'currencyCode': 'CNY', 'reportedValue': {'raw': 3041116000.0, 'fmt': '3.04B'}}\n",
      "{'dataId': 23259, 'asOfDate': '2020-12-31', 'periodType': '12M', 'currencyCode': 'CNY', 'reportedValue': {'raw': 1752514000.0, 'fmt': '1.75B'}}\n",
      "{'dataId': 23259, 'asOfDate': '2021-12-31', 'periodType': '12M', 'currencyCode': 'CNY', 'reportedValue': {'raw': 1495304000.0, 'fmt': '1.50B'}}\n",
      "{'dataId': 23259, 'asOfDate': '2022-12-31', 'periodType': '12M', 'currencyCode': 'CNY', 'reportedValue': {'raw': 960974000.0, 'fmt': '960.97M'}}\n",
      "{'dataId': 23261, 'asOfDate': '2019-12-31', 'periodType': '12M', 'currencyCode': 'CNY', 'reportedValue': {'raw': 2104114000.0, 'fmt': '2.10B'}}\n",
      "{'dataId': 23261, 'asOfDate': '2020-12-31', 'periodType': '12M', 'currencyCode': 'CNY', 'reportedValue': {'raw': 2185616000.0, 'fmt': '2.19B'}}\n",
      "{'dataId': 23261, 'asOfDate': '2021-12-31', 'periodType': '12M', 'currencyCode': 'CNY', 'reportedValue': {'raw': 377711000.0, 'fmt': '377.71M'}}\n",
      "{'dataId': 23261, 'asOfDate': '2022-12-31', 'periodType': '12M', 'currencyCode': 'CNY', 'reportedValue': {'raw': 77392000.0, 'fmt': '77.39M'}}\n",
      "{'dataId': 20100, 'asOfDate': '2019-12-31', 'periodType': '12M', 'currencyCode': 'CNY', 'reportedValue': {'raw': 1167358000.0, 'fmt': '1.17B'}}\n",
      "{'dataId': 20100, 'asOfDate': '2020-12-31', 'periodType': '12M', 'currencyCode': 'CNY', 'reportedValue': {'raw': 877137000.0, 'fmt': '877.14M'}}\n",
      "{'dataId': 20100, 'asOfDate': '2021-12-31', 'periodType': '12M', 'currencyCode': 'CNY', 'reportedValue': {'raw': 1057508000.0, 'fmt': '1.06B'}}\n",
      "{'dataId': 20100, 'asOfDate': '2022-12-31', 'periodType': '12M', 'currencyCode': 'CNY', 'reportedValue': {'raw': 660741000.0, 'fmt': '660.74M'}}\n",
      "{'dataId': 23374, 'asOfDate': '2019-12-31', 'periodType': '12M', 'currencyCode': 'CNY', 'reportedValue': {'raw': 1903139000.0, 'fmt': '1.90B'}}\n",
      "{'dataId': 23374, 'asOfDate': '2020-12-31', 'periodType': '12M', 'currencyCode': 'CNY', 'reportedValue': {'raw': 2015555000.0, 'fmt': '2.02B'}}\n",
      "{'dataId': 23374, 'asOfDate': '2021-12-31', 'periodType': '12M', 'currencyCode': 'CNY', 'reportedValue': {'raw': 337200000.0, 'fmt': '337.20M'}}\n",
      "{'dataId': 23374, 'asOfDate': '2022-12-31', 'periodType': '12M', 'currencyCode': 'CNY', 'reportedValue': {'raw': 51655000.0, 'fmt': '51.66M'}}\n",
      "{'dataId': 29004, 'asOfDate': '2019-12-31', 'periodType': '12M', 'currencyCode': 'CNY', 'reportedValue': {'raw': -316.0, 'fmt': '-316.00'}}\n",
      "{'dataId': 29004, 'asOfDate': '2020-12-31', 'periodType': '12M', 'currencyCode': 'CNY', 'reportedValue': {'raw': -149.98, 'fmt': '-149.98'}}\n",
      "{'dataId': 29004, 'asOfDate': '2021-12-31', 'periodType': '12M', 'currencyCode': 'CNY', 'reportedValue': {'raw': -462.88, 'fmt': '-462.88'}}\n",
      "None\n"
     ]
    },
    {
     "ename": "TypeError",
     "evalue": "'NoneType' object is not subscriptable",
     "output_type": "error",
     "traceback": [
      "\u001b[0;31m---------------------------------------------------------------------------\u001b[0m",
      "\u001b[0;31mTypeError\u001b[0m                                 Traceback (most recent call last)",
      "Cell \u001b[0;32mIn[64], line 7\u001b[0m\n\u001b[1;32m      5\u001b[0m \u001b[38;5;28;01mfor\u001b[39;00m value \u001b[38;5;129;01min\u001b[39;00m index[index_name]:\n\u001b[1;32m      6\u001b[0m     \u001b[38;5;28mprint\u001b[39m(value)\n\u001b[0;32m----> 7\u001b[0m     year \u001b[38;5;241m=\u001b[39m datetime\u001b[38;5;241m.\u001b[39mstrptime(\u001b[43mvalue\u001b[49m\u001b[43m[\u001b[49m\u001b[38;5;124;43m\"\u001b[39;49m\u001b[38;5;124;43masOfDate\u001b[39;49m\u001b[38;5;124;43m\"\u001b[39;49m\u001b[43m]\u001b[49m, \u001b[38;5;124m\"\u001b[39m\u001b[38;5;124m%\u001b[39m\u001b[38;5;124mY-\u001b[39m\u001b[38;5;124m%\u001b[39m\u001b[38;5;124mM-\u001b[39m\u001b[38;5;132;01m%d\u001b[39;00m\u001b[38;5;124m\"\u001b[39m)\u001b[38;5;241m.\u001b[39myear\n\u001b[1;32m      8\u001b[0m     reported_value \u001b[38;5;241m=\u001b[39m value[\u001b[38;5;124m\"\u001b[39m\u001b[38;5;124mreportedValue\u001b[39m\u001b[38;5;124m\"\u001b[39m][\u001b[38;5;124m\"\u001b[39m\u001b[38;5;124mraw\u001b[39m\u001b[38;5;124m\"\u001b[39m]\n\u001b[1;32m      9\u001b[0m     data[\u001b[38;5;124mf\u001b[39m\u001b[38;5;124m\"\u001b[39m\u001b[38;5;132;01m{\u001b[39;00mindex_name\u001b[38;5;132;01m}\u001b[39;00m\u001b[38;5;124m_\u001b[39m\u001b[38;5;132;01m{\u001b[39;00myear\u001b[38;5;132;01m}\u001b[39;00m\u001b[38;5;124m\"\u001b[39m] \u001b[38;5;241m=\u001b[39m reported_value\n",
      "\u001b[0;31mTypeError\u001b[0m: 'NoneType' object is not subscriptable"
     ]
    }
   ],
   "source": [
    "data = {}\n",
    "\n",
    "for index in resp[\"timeseries\"][\"result\"]:\n",
    "    index_name = index[\"meta\"][\"type\"][0]\n",
    "    for value in index[index_name]:\n",
    "        print(value)\n",
    "        year = datetime.strptime(value[\"asOfDate\"], \"%Y-%M-%d\").year\n",
    "        reported_value = value[\"reportedValue\"][\"raw\"]\n",
    "        data[f\"{index_name}_{year}\"] = reported_value\n",
    "data"
   ]
  }
 ],
 "metadata": {
  "kernelspec": {
   "display_name": "Python 3 (ipykernel)",
   "language": "python",
   "name": "python3"
  },
  "language_info": {
   "codemirror_mode": {
    "name": "ipython",
    "version": 3
   },
   "file_extension": ".py",
   "mimetype": "text/x-python",
   "name": "python",
   "nbconvert_exporter": "python",
   "pygments_lexer": "ipython3",
   "version": "3.11.0"
  }
 },
 "nbformat": 4,
 "nbformat_minor": 5
}
